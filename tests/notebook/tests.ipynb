{
 "cells": [
  {
   "attachments": {},
   "cell_type": "markdown",
   "metadata": {
    "id": "cjgz1WTcPWee"
   },
   "source": [
    "# HyFI Test Notebook\n",
    "\n",
    "This Jupyter Notebook is used to test the HyFI package. It contains examples of how to use the package and how to create a new HyFI model.\n"
   ]
  },
  {
   "cell_type": "code",
   "execution_count": 1,
   "metadata": {},
   "outputs": [
    {
     "name": "stderr",
     "output_type": "stream",
     "text": [
      "/home/yjlee/.venvs/nbcpu/lib/python3.8/site-packages/tqdm/auto.py:21: TqdmWarning: IProgress not found. Please update jupyter and ipywidgets. See https://ipywidgets.readthedocs.io/en/stable/user_install.html\n",
      "  from .autonotebook import tqdm as notebook_tqdm\n"
     ]
    }
   ],
   "source": [
    "from nbcpu import HyFI"
   ]
  },
  {
   "attachments": {},
   "cell_type": "markdown",
   "metadata": {},
   "source": [
    "## Check Version\n",
    "\n",
    "Now, let's get the version of the `hyfi` package.\n"
   ]
  },
  {
   "cell_type": "code",
   "execution_count": 2,
   "metadata": {
    "id": "BzxPwsOVPWef"
   },
   "outputs": [
    {
     "name": "stdout",
     "output_type": "stream",
     "text": [
      "HyFI version: 1.25.2\n",
      "HyFI app version: 0.7.0\n",
      "\n",
      "name        : Measuring Central Bank Policy Uncertainty\n",
      "authors     : Young Joon Lee <entelecheia@hotmail.com>\n",
      "description : Quantifying Central Bank Policy Uncertainty in a Highly Dollarized Economy: A Topic Modeling Approach\n",
      "homepage    : https://nbcpu.entelecheia.ai\n",
      "license     : MIT\n",
      "version     : 0.7.0\n",
      "\n",
      "Execute `nbcpu --help` to see what you can do with Measuring Central Bank Policy Uncertainty\n"
     ]
    }
   ],
   "source": [
    "version = HyFI.__version__\n",
    "print(\"HyFI version:\", version)\n",
    "version = HyFI().app_version\n",
    "print(\"HyFI app version:\", version)\n",
    "HyFI.print_about()"
   ]
  },
  {
   "cell_type": "code",
   "execution_count": 3,
   "metadata": {},
   "outputs": [
    {
     "name": "stdout",
     "output_type": "stream",
     "text": [
      "The system workspace root is /mnt/nvme1n1p2/home/yj.lee/workspace and the user is yj.lee.\n"
     ]
    }
   ],
   "source": [
    "# Test expanding $PWD and $USER variables\n",
    "posix_expr = \"The system workspace root is $WORKSPACE_ROOT and the user is $USER.\"\n",
    "\n",
    "expanded_expr = HyFI.expand_posix_vars(posix_expr)\n",
    "print(expanded_expr)"
   ]
  },
  {
   "attachments": {},
   "cell_type": "markdown",
   "metadata": {},
   "source": [
    "## Initialize Project\n",
    "\n",
    "We'll initialize the project using the `HyFI.initialize` function. The function takes the following parameters:\n",
    "\n",
    "- `project_name`: Name of the project to use.\n",
    "- `project_description`: Description of the project that will be used.\n",
    "- `project_root`: Root directory of the project.\n",
    "- `project_workspace_name`: Name of the project's workspace directory.\n",
    "- `global_hyfi_root`: Root directory of the global hyfi.\n",
    "- `global_workspace_name`: Name of the global hierachical workspace directory.\n",
    "- `num_workers`: Number of workers to run.\n",
    "- `logging_level`: Log level for the log.\n",
    "- `autotime`: Whether to automatically set time and / or keep track of run times.\n",
    "- `retina`: Whether to use retina or not.\n",
    "- `verbose`: Enables or disables logging\n",
    "\n",
    "We'll check if we're running in Google Colab, and if so, we'll mount Google Drive.\n"
   ]
  },
  {
   "cell_type": "code",
   "execution_count": 4,
   "metadata": {},
   "outputs": [
    {
     "name": "stderr",
     "output_type": "stream",
     "text": [
      "INFO:hyfi.utils.notebooks:Google Colab not detected.\n",
      "INFO:hyfi.utils.notebooks:Extension autotime not found. Install it first.\n",
      "INFO:hyfi.joblib.joblib:initialized batcher with <hyfi.joblib.batch.batcher.Batcher object at 0x7f59504683a0>\n",
      "INFO:hyfi.main.config:HyFi project [nbcpu] initialized\n"
     ]
    },
    {
     "name": "stdout",
     "output_type": "stream",
     "text": [
      "project_dir: /raid/cis/yjlee/workspace/projects/nbcpu/tests/notebook\n",
      "project_workspace_dir: /raid/cis/yjlee/workspace/projects/nbcpu/tests/notebook/workspace\n"
     ]
    }
   ],
   "source": [
    "if HyFI.is_colab():\n",
    "    HyFI.mount_google_drive()\n",
    "\n",
    "h = HyFI.initialize(\n",
    "    project_name=\"nbcpu\",\n",
    "    project_root=\".\",\n",
    "    logging_level=\"INFO\",\n",
    "    verbose=True,\n",
    ")\n",
    "\n",
    "print(\"project_dir:\", h.project.root_dir)\n",
    "print(\"project_workspace_dir:\", h.project.workspace_dir)"
   ]
  },
  {
   "attachments": {},
   "cell_type": "markdown",
   "metadata": {},
   "source": [
    "## Compose Configuration\n",
    "\n",
    "We can use the `HyFI.compose` function to load a configuration file. In this example, we'll use the default configuration by specifying `path=__default__`.\n"
   ]
  },
  {
   "cell_type": "code",
   "execution_count": 5,
   "metadata": {},
   "outputs": [],
   "source": [
    "cfg = h.compose(\"project\")"
   ]
  },
  {
   "attachments": {},
   "cell_type": "markdown",
   "metadata": {},
   "source": [
    "## Display Configuration\n",
    "\n",
    "Now, let's print the loaded configuration using the `HyFI.print` function.\n"
   ]
  },
  {
   "cell_type": "code",
   "execution_count": 6,
   "metadata": {},
   "outputs": [
    {
     "name": "stdout",
     "output_type": "stream",
     "text": [
      "{'_config_group_': '/project',\n",
      " '_config_name_': '__init__',\n",
      " 'dotenv': {'CACHED_PATH_CACHE_ROOT': None,\n",
      "            'CUDA_DEVICE_ORDER': None,\n",
      "            'CUDA_VISIBLE_DEVICES': None,\n",
      "            'DOTENV_DIR': '/raid/cis/yjlee/workspace/projects/nbcpu/tests/notebook',\n",
      "            'DOTENV_FILE': '/raid/cis/yjlee/workspace/projects/nbcpu/tests/notebook/.env',\n",
      "            'DOTENV_FILENAME': '.env',\n",
      "            'ECOS_API_KEY': None,\n",
      "            'FRED_API_KEY': None,\n",
      "            'HF_USER_ACCESS_TOKEN': None,\n",
      "            'HUGGING_FACE_HUB_TOKEN': None,\n",
      "            'HYFI_GLOBAL_ROOT': None,\n",
      "            'HYFI_GLOBAL_WORKSPACE_NAME': None,\n",
      "            'HYFI_LOG_LEVEL': 'WARNING',\n",
      "            'HYFI_NUM_WORKERS': None,\n",
      "            'HYFI_PROJECT_DESC': None,\n",
      "            'HYFI_PROJECT_NAME': None,\n",
      "            'HYFI_PROJECT_ROOT': None,\n",
      "            'HYFI_PROJECT_WORKSPACE_NAME': None,\n",
      "            'HYFI_RESOURCE_DIR': None,\n",
      "            'HYFI_SECRETS_DIR': '/raid/cis/yjlee/workspace/projects/nbcpu/tests/notebook/secrets',\n",
      "            'HYFI_VERBOSE': False,\n",
      "            'KMP_DUPLICATE_LIB_OK': None,\n",
      "            'LABEL_STUDIO_SERVER': None,\n",
      "            'NASDAQ_API_KEY': None,\n",
      "            'OPENAI_API_KEY': None,\n",
      "            'TOKENIZERS_PARALLELISM': None,\n",
      "            'WANDB_API_KEY': None,\n",
      "            'WANDB_DIR': None,\n",
      "            'WANDB_DISABLED': None,\n",
      "            'WANDB_NOTEBOOK_NAME': None,\n",
      "            'WANDB_PROJECT': None,\n",
      "            'WANDB_SILENT': None},\n",
      " 'global_hyfi_root': '/home/yjlee',\n",
      " 'global_workspace_name': '.hyfi',\n",
      " 'joblib': {'backend': 'joblib',\n",
      "            'initialize_backend': True,\n",
      "            'minibatch_size': 1000,\n",
      "            'num_gpus': 0,\n",
      "            'num_workers': '1',\n",
      "            'verbose': False},\n",
      " 'num_workers': '1',\n",
      " 'path': {'_config_group_': '/path',\n",
      "          '_config_name_': '__project__',\n",
      "          'dirnames': {'archives': 'archives',\n",
      "                       'cache': '.cache',\n",
      "                       'config_json': 'config.json',\n",
      "                       'config_yaml': 'config.yaml',\n",
      "                       'configs': 'configs',\n",
      "                       'datasets': 'datasets',\n",
      "                       'inputs': 'inputs',\n",
      "                       'library': 'libs',\n",
      "                       'logs': 'logs',\n",
      "                       'models': 'models',\n",
      "                       'modules': 'modules',\n",
      "                       'outputs': 'outputs',\n",
      "                       'tmp': 'tmp'},\n",
      "          'global_hyfi_root': '/home/yjlee',\n",
      "          'global_workspace_name': '.hyfi',\n",
      "          'home': '/home/yjlee',\n",
      "          'hyfi': '/raid/cis/yjlee/workspace/projects/hyfi/src/hyfi',\n",
      "          'package': '/raid/cis/yjlee/workspace/projects/nbcpu/src/nbcpu',\n",
      "          'project_name': 'nbcpu',\n",
      "          'project_root': '.',\n",
      "          'project_workspace_name': 'workspace',\n",
      "          'resources': '/raid/cis/yjlee/workspace/projects/hyfi/src/hyfi/resources',\n",
      "          'runtime': '/raid/cis/yjlee/workspace/projects/nbcpu/tests/notebook'},\n",
      " 'project_description': '',\n",
      " 'project_name': 'nbcpu',\n",
      " 'project_root': '.',\n",
      " 'project_workspace_name': 'workspace',\n",
      " 'use_huggingface_hub': False,\n",
      " 'use_wandb': False,\n",
      " 'verbose': 'True'}\n"
     ]
    }
   ],
   "source": [
    "h.print(cfg)"
   ]
  },
  {
   "attachments": {},
   "cell_type": "markdown",
   "metadata": {},
   "source": [
    "That's it! This example demonstrated the basic usage of the `hyfi_template` package. You can now use this package to manage your own projects and tasks in a structured manner.\n"
   ]
  },
  {
   "cell_type": "code",
   "execution_count": 7,
   "metadata": {},
   "outputs": [
    {
     "data": {
      "text/html": [
       "<div>\n",
       "<style scoped>\n",
       "    .dataframe tbody tr th:only-of-type {\n",
       "        vertical-align: middle;\n",
       "    }\n",
       "\n",
       "    .dataframe tbody tr th {\n",
       "        vertical-align: top;\n",
       "    }\n",
       "\n",
       "    .dataframe thead th {\n",
       "        text-align: right;\n",
       "    }\n",
       "</style>\n",
       "<table border=\"1\" class=\"dataframe\">\n",
       "  <thead>\n",
       "    <tr style=\"text-align: right;\">\n",
       "      <th></th>\n",
       "      <th>url</th>\n",
       "      <th>keyword</th>\n",
       "      <th>title</th>\n",
       "      <th>categories</th>\n",
       "      <th>time</th>\n",
       "      <th>text</th>\n",
       "    </tr>\n",
       "  </thead>\n",
       "  <tbody>\n",
       "    <tr>\n",
       "      <th>0</th>\n",
       "      <td>https://www.khmertimeskh.com/501330943/use-con...</td>\n",
       "      <td>NBC</td>\n",
       "      <td>Use consumer behaviour for providing loans, NB...</td>\n",
       "      <td>[Business]</td>\n",
       "      <td>2023-07-25 18:19:23</td>\n",
       "      <td>The National Bank of Cambodia (NBC) has asked ...</td>\n",
       "    </tr>\n",
       "    <tr>\n",
       "      <th>1</th>\n",
       "      <td>https://www.khmertimeskh.com/501326169/video-c...</td>\n",
       "      <td>NBC</td>\n",
       "      <td>VIDEO: Consumers’ complaint mechanism soon, NB...</td>\n",
       "      <td>[Business]</td>\n",
       "      <td>2023-07-18 08:19:05</td>\n",
       "      <td>The National Bank of Cambodia has prepared a d...</td>\n",
       "    </tr>\n",
       "    <tr>\n",
       "      <th>2</th>\n",
       "      <td>https://www.khmertimeskh.com/501325554/consume...</td>\n",
       "      <td>NBC</td>\n",
       "      <td>Consumers’ complaint mechanism soon, NBC says</td>\n",
       "      <td>[Business]</td>\n",
       "      <td>2023-07-17 18:19:37</td>\n",
       "      <td>The National Bank of Cambodia has prepared a d...</td>\n",
       "    </tr>\n",
       "    <tr>\n",
       "      <th>3</th>\n",
       "      <td>https://www.khmertimeskh.com/501322478/nbc-ink...</td>\n",
       "      <td>NBC</td>\n",
       "      <td>NBC inks deal with UnionPay to expand cross-bo...</td>\n",
       "      <td>[Business]</td>\n",
       "      <td>2023-07-11 18:19:19</td>\n",
       "      <td>National Bank of Cambodia (NBC) on Monday sign...</td>\n",
       "    </tr>\n",
       "    <tr>\n",
       "      <th>4</th>\n",
       "      <td>https://www.khmertimeskh.com/501321914/inflati...</td>\n",
       "      <td>NBC</td>\n",
       "      <td>Inflation drops lowest to 0.48%, says NBC</td>\n",
       "      <td>[Business]</td>\n",
       "      <td>2023-07-10 18:17:17</td>\n",
       "      <td>The average price of goods and services suppli...</td>\n",
       "    </tr>\n",
       "  </tbody>\n",
       "</table>\n",
       "</div>"
      ],
      "text/plain": [
       "                                                 url keyword  \\\n",
       "0  https://www.khmertimeskh.com/501330943/use-con...     NBC   \n",
       "1  https://www.khmertimeskh.com/501326169/video-c...     NBC   \n",
       "2  https://www.khmertimeskh.com/501325554/consume...     NBC   \n",
       "3  https://www.khmertimeskh.com/501322478/nbc-ink...     NBC   \n",
       "4  https://www.khmertimeskh.com/501321914/inflati...     NBC   \n",
       "\n",
       "                                               title  categories  \\\n",
       "0  Use consumer behaviour for providing loans, NB...  [Business]   \n",
       "1  VIDEO: Consumers’ complaint mechanism soon, NB...  [Business]   \n",
       "2      Consumers’ complaint mechanism soon, NBC says  [Business]   \n",
       "3  NBC inks deal with UnionPay to expand cross-bo...  [Business]   \n",
       "4          Inflation drops lowest to 0.48%, says NBC  [Business]   \n",
       "\n",
       "                 time                                               text  \n",
       "0 2023-07-25 18:19:23  The National Bank of Cambodia (NBC) has asked ...  \n",
       "1 2023-07-18 08:19:05  The National Bank of Cambodia has prepared a d...  \n",
       "2 2023-07-17 18:19:37  The National Bank of Cambodia has prepared a d...  \n",
       "3 2023-07-11 18:19:19  National Bank of Cambodia (NBC) on Monday sign...  \n",
       "4 2023-07-10 18:17:17  The average price of goods and services suppli...  "
      ]
     },
     "execution_count": 7,
     "metadata": {},
     "output_type": "execute_result"
    }
   ],
   "source": [
    "p = \"/home/yjlee/workspace/projects/nbcpu/workspace/datasets/raw/khmer_articles.parquet\"\n",
    "\n",
    "df = HyFI.load_dataframe(p)\n",
    "df.head()"
   ]
  },
  {
   "cell_type": "code",
   "execution_count": null,
   "metadata": {},
   "outputs": [],
   "source": []
  }
 ],
 "metadata": {
  "colab": {
   "name": "corpus.ipynb",
   "provenance": []
  },
  "interpreter": {
   "hash": "f869af7787e6a1c49e09e367fc6e1b81d93d1c6583b43249c80edc047bd13cb2"
  },
  "kernelspec": {
   "display_name": "Python 3",
   "language": "python",
   "name": "python3"
  },
  "language_info": {
   "codemirror_mode": {
    "name": "ipython",
    "version": 3
   },
   "file_extension": ".py",
   "mimetype": "text/x-python",
   "name": "python",
   "nbconvert_exporter": "python",
   "pygments_lexer": "ipython3",
   "version": "3.8.10"
  },
  "widgets": {
   "application/vnd.jupyter.widget-state+json": {
    "state": {},
    "version_major": 2,
    "version_minor": 0
   }
  }
 },
 "nbformat": 4,
 "nbformat_minor": 1
}
