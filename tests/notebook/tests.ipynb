{
 "cells": [
  {
   "attachments": {},
   "cell_type": "markdown",
   "metadata": {
    "id": "cjgz1WTcPWee"
   },
   "source": [
    "# HyFI Test Notebook\n",
    "\n",
    "This Jupyter Notebook is used to test the HyFI package. It contains examples of how to use the package and how to create a new HyFI model.\n"
   ]
  },
  {
   "cell_type": "code",
   "execution_count": 1,
   "metadata": {},
   "outputs": [
    {
     "name": "stderr",
     "output_type": "stream",
     "text": [
      "/home/yj.lee/.venvs/nbcpu/lib/python3.8/site-packages/tqdm/auto.py:21: TqdmWarning: IProgress not found. Please update jupyter and ipywidgets. See https://ipywidgets.readthedocs.io/en/stable/user_install.html\n",
      "  from .autonotebook import tqdm as notebook_tqdm\n"
     ]
    }
   ],
   "source": [
    "from nbcpu import HyFI"
   ]
  },
  {
   "attachments": {},
   "cell_type": "markdown",
   "metadata": {},
   "source": [
    "## Check Version\n",
    "\n",
    "Now, let's get the version of the `hyfi` package.\n"
   ]
  },
  {
   "cell_type": "code",
   "execution_count": 2,
   "metadata": {
    "id": "BzxPwsOVPWef"
   },
   "outputs": [
    {
     "name": "stdout",
     "output_type": "stream",
     "text": [
      "HyFI version: 1.25.0\n",
      "HyFI app version: 0.6.0\n",
      "\n",
      "name        : Measuring Central Bank Policy Uncertainty\n",
      "authors     : Young Joon Lee <entelecheia@hotmail.com>\n",
      "description : Quantifying Central Bank Policy Uncertainty in a Highly Dollarized Economy: A Topic Modeling Approach\n",
      "homepage    : https://nbcpu.entelecheia.ai\n",
      "license     : MIT\n",
      "version     : 0.6.0\n",
      "\n",
      "Execute `nbcpu --help` to see what you can do with Measuring Central Bank Policy Uncertainty\n"
     ]
    }
   ],
   "source": [
    "version = HyFI.__version__\n",
    "print(\"HyFI version:\", version)\n",
    "version = HyFI().app_version\n",
    "print(\"HyFI app version:\", version)\n",
    "HyFI.print_about()"
   ]
  },
  {
   "cell_type": "code",
   "execution_count": 3,
   "metadata": {},
   "outputs": [
    {
     "name": "stdout",
     "output_type": "stream",
     "text": [
      "The system workspace root is /mnt/nvme1n1p2/home/yj.lee/workspace and the user is yj.lee.\n"
     ]
    }
   ],
   "source": [
    "# Test expanding $PWD and $USER variables\n",
    "posix_expr = \"The system workspace root is $WORKSPACE_ROOT and the user is $USER.\"\n",
    "\n",
    "expanded_expr = HyFI.expand_posix_vars(posix_expr)\n",
    "print(expanded_expr)\n"
   ]
  },
  {
   "attachments": {},
   "cell_type": "markdown",
   "metadata": {},
   "source": [
    "## Initialize Project\n",
    "\n",
    "We'll initialize the project using the `HyFI.initialize` function. The function takes the following parameters:\n",
    "\n",
    "- `project_name`: Name of the project to use.\n",
    "- `project_description`: Description of the project that will be used.\n",
    "- `project_root`: Root directory of the project.\n",
    "- `project_workspace_name`: Name of the project's workspace directory.\n",
    "- `global_hyfi_root`: Root directory of the global hyfi.\n",
    "- `global_workspace_name`: Name of the global hierachical workspace directory.\n",
    "- `num_workers`: Number of workers to run.\n",
    "- `logging_level`: Log level for the log.\n",
    "- `autotime`: Whether to automatically set time and / or keep track of run times.\n",
    "- `retina`: Whether to use retina or not.\n",
    "- `verbose`: Enables or disables logging\n",
    "\n",
    "We'll check if we're running in Google Colab, and if so, we'll mount Google Drive.\n"
   ]
  },
  {
   "cell_type": "code",
   "execution_count": 4,
   "metadata": {},
   "outputs": [
    {
     "name": "stderr",
     "output_type": "stream",
     "text": [
      "INFO:hyfi.utils.notebooks:Google Colab not detected.\n",
      "INFO:hyfi.utils.notebooks:Extension autotime not found. Install it first.\n",
      "INFO:hyfi.joblib.joblib:initialized batcher with <hyfi.joblib.batch.batcher.Batcher object at 0x7f74b18b5460>\n",
      "INFO:hyfi.main.config:HyFi project [hyfi] initialized\n"
     ]
    },
    {
     "name": "stdout",
     "output_type": "stream",
     "text": [
      "project_dir: /mnt/nvme1n1p2/home/yj.lee/workspace/projects/nbcpu/tests/notebook\n",
      "project_workspace_dir: /mnt/nvme1n1p2/home/yj.lee/workspace/projects/nbcpu/tests/notebook/workspace\n"
     ]
    }
   ],
   "source": [
    "if HyFI.is_colab():\n",
    "    HyFI.mount_google_drive()\n",
    "\n",
    "h = HyFI.initialize(\n",
    "    project_name=\"hyfi\",\n",
    "    project_root=\".\",\n",
    "    logging_level=\"INFO\",\n",
    "    verbose=True,\n",
    ")\n",
    "\n",
    "print(\"project_dir:\", h.project.root_dir)\n",
    "print(\"project_workspace_dir:\", h.project.workspace_dir)\n"
   ]
  },
  {
   "attachments": {},
   "cell_type": "markdown",
   "metadata": {},
   "source": [
    "## Compose Configuration\n",
    "\n",
    "We can use the `HyFI.compose` function to load a configuration file. In this example, we'll use the default configuration by specifying `path=__default__`.\n"
   ]
  },
  {
   "cell_type": "code",
   "execution_count": 5,
   "metadata": {},
   "outputs": [],
   "source": [
    "cfg = h.compose(\"project\")\n"
   ]
  },
  {
   "attachments": {},
   "cell_type": "markdown",
   "metadata": {},
   "source": [
    "## Display Configuration\n",
    "\n",
    "Now, let's print the loaded configuration using the `HyFI.print` function.\n"
   ]
  },
  {
   "cell_type": "code",
   "execution_count": 6,
   "metadata": {},
   "outputs": [
    {
     "name": "stdout",
     "output_type": "stream",
     "text": [
      "{'_config_group_': '/project',\n",
      " '_config_name_': '__init__',\n",
      " 'dotenv': {'CACHED_PATH_CACHE_ROOT': None,\n",
      "            'CUDA_DEVICE_ORDER': None,\n",
      "            'CUDA_VISIBLE_DEVICES': None,\n",
      "            'DOTENV_DIR': '/mnt/nvme1n1p2/home/yj.lee/workspace/projects/nbcpu/tests/notebook',\n",
      "            'DOTENV_FILE': '/mnt/nvme1n1p2/home/yj.lee/workspace/projects/nbcpu/tests/notebook/.env',\n",
      "            'DOTENV_FILENAME': '.env',\n",
      "            'ECOS_API_KEY': None,\n",
      "            'FRED_API_KEY': None,\n",
      "            'HF_USER_ACCESS_TOKEN': None,\n",
      "            'HUGGING_FACE_HUB_TOKEN': None,\n",
      "            'HYFI_GLOBAL_ROOT': None,\n",
      "            'HYFI_GLOBAL_WORKSPACE_NAME': None,\n",
      "            'HYFI_LOG_LEVEL': 'WARNING',\n",
      "            'HYFI_NUM_WORKERS': None,\n",
      "            'HYFI_PROJECT_DESC': None,\n",
      "            'HYFI_PROJECT_NAME': None,\n",
      "            'HYFI_PROJECT_ROOT': None,\n",
      "            'HYFI_PROJECT_WORKSPACE_NAME': None,\n",
      "            'HYFI_RESOURCE_DIR': None,\n",
      "            'HYFI_SECRETS_DIR': '/mnt/nvme1n1p2/home/yj.lee/workspace/projects/nbcpu/tests/notebook/secrets',\n",
      "            'HYFI_VERBOSE': False,\n",
      "            'KMP_DUPLICATE_LIB_OK': None,\n",
      "            'LABEL_STUDIO_SERVER': None,\n",
      "            'NASDAQ_API_KEY': None,\n",
      "            'OPENAI_API_KEY': None,\n",
      "            'TOKENIZERS_PARALLELISM': None,\n",
      "            'WANDB_API_KEY': None,\n",
      "            'WANDB_DIR': None,\n",
      "            'WANDB_DISABLED': None,\n",
      "            'WANDB_NOTEBOOK_NAME': None,\n",
      "            'WANDB_PROJECT': None,\n",
      "            'WANDB_SILENT': None},\n",
      " 'global_hyfi_root': '/home/yj.lee',\n",
      " 'global_workspace_name': '.hyfi',\n",
      " 'joblib': {'backend': 'joblib',\n",
      "            'initialize_backend': True,\n",
      "            'minibatch_size': 1000,\n",
      "            'num_gpus': 0,\n",
      "            'num_workers': '1',\n",
      "            'verbose': False},\n",
      " 'num_workers': '1',\n",
      " 'path': {'_config_group_': '/path',\n",
      "          '_config_name_': '__project__',\n",
      "          'dirnames': {'archives': 'archives',\n",
      "                       'cache': '.cache',\n",
      "                       'config_json': 'config.json',\n",
      "                       'config_yaml': 'config.yaml',\n",
      "                       'configs': 'configs',\n",
      "                       'datasets': 'datasets',\n",
      "                       'inputs': 'inputs',\n",
      "                       'library': 'libs',\n",
      "                       'logs': 'logs',\n",
      "                       'models': 'models',\n",
      "                       'modules': 'modules',\n",
      "                       'outputs': 'outputs',\n",
      "                       'tmp': 'tmp'},\n",
      "          'global_hyfi_root': '/home/yj.lee',\n",
      "          'global_workspace_name': '.hyfi',\n",
      "          'home': '/home/yj.lee',\n",
      "          'hyfi': '/home/yj.lee/.venvs/nbcpu/lib/python3.8/site-packages/hyfi',\n",
      "          'package': '/mnt/nvme1n1p2/home/yj.lee/workspace/projects/nbcpu/src/nbcpu',\n",
      "          'project_name': 'hyfi',\n",
      "          'project_root': '.',\n",
      "          'project_workspace_name': 'workspace',\n",
      "          'resources': '/home/yj.lee/.venvs/nbcpu/lib/python3.8/site-packages/hyfi/resources',\n",
      "          'runtime': '/mnt/nvme1n1p2/home/yj.lee/workspace/projects/nbcpu/tests/notebook'},\n",
      " 'project_description': '',\n",
      " 'project_name': 'hyfi',\n",
      " 'project_root': '.',\n",
      " 'project_workspace_name': 'workspace',\n",
      " 'use_huggingface_hub': False,\n",
      " 'use_wandb': False,\n",
      " 'verbose': 'True'}\n"
     ]
    }
   ],
   "source": [
    "h.print(cfg)\n"
   ]
  },
  {
   "attachments": {},
   "cell_type": "markdown",
   "metadata": {},
   "source": [
    "That's it! This example demonstrated the basic usage of the `hyfi_template` package. You can now use this package to manage your own projects and tasks in a structured manner.\n"
   ]
  }
 ],
 "metadata": {
  "colab": {
   "name": "corpus.ipynb",
   "provenance": []
  },
  "interpreter": {
   "hash": "f869af7787e6a1c49e09e367fc6e1b81d93d1c6583b43249c80edc047bd13cb2"
  },
  "kernelspec": {
   "display_name": "Python 3",
   "language": "python",
   "name": "python3"
  },
  "language_info": {
   "codemirror_mode": {
    "name": "ipython",
    "version": 3
   },
   "file_extension": ".py",
   "mimetype": "text/x-python",
   "name": "python",
   "nbconvert_exporter": "python",
   "pygments_lexer": "ipython3",
   "version": "3.8.10"
  },
  "widgets": {
   "application/vnd.jupyter.widget-state+json": {
    "state": {},
    "version_major": 2,
    "version_minor": 0
   }
  }
 },
 "nbformat": 4,
 "nbformat_minor": 1
}
