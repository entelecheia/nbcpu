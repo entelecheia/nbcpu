{
 "cells": [
  {
   "attachments": {},
   "cell_type": "markdown",
   "metadata": {},
   "source": [
    "# Crawling Khmer Times\n",
    "\n",
    "## Overview\n",
    "\n",
    "The dataset for Khmer Times is prepared as follows:\n",
    "\n",
    "### 1. Web Scraping\n",
    "\n",
    "Web scraping is performed using Python with the help of the `requests` and `BeautifulSoup` libraries. A Python function is written to crawl the search results pages of the Khmer Times website and extract the URLs of the news articles. The function takes a search keyword as input and iteratively crawls the search results pages until it encounters a page that returns a 404 error, indicating that there are no more results.\n",
    "\n",
    "The structure of the search results pages is as follows:\n",
    "\n",
    "- Each article is contained within an `<article>` tag with the class `item item-media`.\n",
    "- The title of the article is contained within an `<h2>` tag with the class `item-title`.\n",
    "- The URL of the article is contained within an `<a>` tag within the `<h2>` tag.\n",
    "\n",
    "The function extracts the title and URL of each article and stores them in a list of dictionaries.\n",
    "\n",
    "### 2. Article Text Extraction\n",
    "\n",
    "Another Python function is written to follow the URLs extracted in the previous step and scrape the text of the articles. The function iterates over the list of URLs and sends a GET request to each URL. It then parses the HTML of the article page using BeautifulSoup.\n",
    "\n",
    "The structure of the article pages is as follows:\n",
    "\n",
    "- The text of the article is contained within multiple `<p>` tags, which are themselves contained within a `<div>` tag with the class `entry-content`.\n",
    "- The categories of the article are contained within `<a>` tags within a `<div>` tag with the class `entry-meta`.\n",
    "- The publication time of the article is contained within a `<time>` tag within the same `entry-meta` div.\n",
    "\n",
    "The function extracts the text, categories, and publication time of each article and stores them in a list of dictionaries.\n",
    "\n",
    "### 3. Data Serialization\n",
    "\n",
    "The list of dictionaries containing the article data is then serialized to a JSON file using Python's `json` library. The `datetime` objects representing the publication times of the articles are converted to ISO 8601 formatted strings before serialization, as `datetime` objects are not JSON serializable.\n",
    "\n",
    "The resulting JSON file contains an array of objects, where each object represents an article and has a `text`, `categories`, and `time` field. The `text` field contains the text of the article, the `categories` field contains a list of the categories of the article, and the `time` field contains the publication time of the article as an ISO 8601 formatted string.\n",
    "\n",
    "This JSON file serves as the dataset for this project.\n"
   ]
  },
  {
   "cell_type": "markdown",
   "metadata": {},
   "source": [
    "## Crawling Workflow\n",
    "\n",
    "The crawling configuration is located in the `src/nbcpu/conf/fetcher` directory. You can print the configuration by running the following command:\n"
   ]
  },
  {
   "cell_type": "code",
   "execution_count": 16,
   "metadata": {},
   "outputs": [
    {
     "name": "stdout",
     "output_type": "stream",
     "text": [
      "## Command Line Interface for HyFI ##\n",
      "{'about': {'authors': 'Young Joon Lee <entelecheia@hotmail.com>',\n",
      "           'description': 'Quantifying Central Bank Policy Uncertainty in a '\n",
      "                          'Highly Dollarized Economy: A Topic Modeling '\n",
      "                          'Approach',\n",
      "           'homepage': 'https://nbcpu.entelecheia.ai',\n",
      "           'license': 'MIT',\n",
      "           'name': 'Measuring Central Bank Policy Uncertainty'},\n",
      " 'debug_mode': False,\n",
      " 'dryrun': True,\n",
      " 'fetcher': {'_config_group_': '/fetcher',\n",
      "             '_config_name_': 'khmer_all',\n",
      "             '_target_': 'nbcpu.fetcher.khmer.KhmerFetcher',\n",
      "             'article_filename': 'articles.jsonl',\n",
      "             'delay_between_requests': 0.0,\n",
      "             'key_field': 'url',\n",
      "             'link_filename': 'links.jsonl',\n",
      "             'max_num_articles': None,\n",
      "             'max_num_pages': None,\n",
      "             'num_workers': 2,\n",
      "             'output_dir': 'workspace/datasets/fetcher/khmer',\n",
      "             'overwrite_existing': False,\n",
      "             'print_every': 10,\n",
      "             'search_keywords': ['NBC',\n",
      "                                 'Exchange Rate',\n",
      "                                 'De-dollarization',\n",
      "                                 'Inflation',\n",
      "                                 'GDP',\n",
      "                                 'Monetary Policy',\n",
      "                                 'Finance',\n",
      "                                 'Banking',\n",
      "                                 'Stock Exchange',\n",
      "                                 'Uncertain',\n",
      "                                 'Economic',\n",
      "                                 'Policy',\n",
      "                                 'Financial',\n",
      "                                 'Riel',\n",
      "                                 'Bank',\n",
      "                                 'Economy',\n",
      "                                 'Securities Exchange',\n",
      "                                 'National Bank of Cambodia'],\n",
      "             'search_url': 'https://www.khmertimeskh.com/page/{page}/?s={keyword}',\n",
      "             'start_page': 1,\n",
      "             'verbose': True},\n",
      " 'hydra_log_dir': '/home/yjlee/.hyfi/logs/hydra',\n",
      " 'ignore_warnings': True,\n",
      " 'logging_level': 'WARNING',\n",
      " 'noop': False,\n",
      " 'resolve': True,\n",
      " 'verbose': False,\n",
      " 'version': '0.12.0'}\n",
      "\n",
      "Dryrun is enabled, not running the HyFI config\n",
      "\n"
     ]
    }
   ],
   "source": [
    "!nbcpu +fetcher=khmer_all dryrun=true"
   ]
  },
  {
   "cell_type": "markdown",
   "metadata": {},
   "source": [
    "To crawl the news articles from the Khmer Times, run the following workflow:\n"
   ]
  },
  {
   "cell_type": "code",
   "execution_count": 21,
   "metadata": {},
   "outputs": [
    {
     "name": "stdout",
     "output_type": "stream",
     "text": [
      "[2023-08-15 14:50:35,465][hyfi.main.config][INFO] - HyFi project [nbcpu] initialized\n",
      "[2023-08-15 14:50:36,516][nbcpu.fetcher.base][INFO] - Fetching links for keyword: NBC\n",
      "[2023-08-15 14:50:36,517][nbcpu.fetcher.base][INFO] - [Keyword: NBC] Page: 1\n",
      "[2023-08-15 14:50:36,903][nbcpu.fetcher.khmer][INFO] - Title: NBC to increase reserve requirements in foreign currency to 12.5%\n",
      "[2023-08-15 14:50:36,903][nbcpu.fetcher.khmer][INFO] - URL: https://www.khmertimeskh.com/501335210/nbc-to-increase-reserve-requirements-in-foreign-currency-to-12-5/\n",
      "[2023-08-15 14:50:36,904][nbcpu.fetcher.khmer][INFO] - Title: NBC inks deal with UnionPay to expand cross-border payment to China\n",
      "[2023-08-15 14:50:36,904][nbcpu.fetcher.khmer][INFO] - URL: https://www.khmertimeskh.com/501322478/nbc-inks-deal-with-unionpay-to-expand-cross-border-payment-to-china/\n",
      "[2023-08-15 14:50:36,904][nbcpu.fetcher.khmer][INFO] - Title: Rural credit institutions help people improve livelihoods, NBC says\n",
      "[2023-08-15 14:50:36,904][nbcpu.fetcher.khmer][INFO] - URL: https://www.khmertimeskh.com/501287567/rural-credit-institutions-help-people-improve-livelihoods-nbc-says/\n",
      "[2023-08-15 14:50:36,907][nbcpu.fetcher.base][INFO] - Reached max number of pages, stopping...\n",
      "[2023-08-15 14:50:36,907][nbcpu.fetcher.base][INFO] - Finished fetching links for keyword: NBC\n",
      "[2023-08-15 14:50:36,907][nbcpu.fetcher.base][INFO] - Total links fetched: 30\n",
      "[2023-08-15 14:50:36,915][nbcpu.fetcher.base][INFO] - Removed 0 duplicate links from 30 links\n",
      "[2023-08-15 14:50:36,916][nbcpu.fetcher.base][INFO] - Saved 30 links to /home/yjlee/workspace/projects/nbcpu/workspace/datasets/fetcher/khmer/links.jsonl\n",
      "[2023-08-15 14:50:40,769][nbcpu.fetcher.base][INFO] - Reached max number of articles, stopping...\n",
      "[2023-08-15 14:50:40,769][nbcpu.fetcher.base][INFO] - Finished scraping articles\n",
      "[2023-08-15 14:50:40,769][nbcpu.fetcher.base][INFO] - Total articles scraped: 5\n",
      "[2023-08-15 14:50:40,853][nbcpu.fetcher.base][INFO] - Reached max number of articles, stopping...\n",
      "[2023-08-15 14:50:40,853][nbcpu.fetcher.base][INFO] - Finished scraping articles\n",
      "[2023-08-15 14:50:40,853][nbcpu.fetcher.base][INFO] - Total articles scraped: 5\n",
      "[2023-08-15 14:50:40,867][nbcpu.fetcher.base][INFO] - Removed 0 duplicate articles from 10 articles\n",
      "[2023-08-15 14:50:40,868][nbcpu.fetcher.base][INFO] - Saved 10 articles to /home/yjlee/workspace/projects/nbcpu/workspace/datasets/fetcher/khmer/articles.jsonl\n"
     ]
    }
   ],
   "source": [
    "!nbcpu +workflow=nbcpu tasks='[khmer_all]' \\\n",
    "    khmer_all.max_num_pages=1 khmer_all.max_num_articles=5 \\\n",
    "        khmer_all.search_keywords='[NBC]' \\\n",
    "            mode=__info__"
   ]
  },
  {
   "cell_type": "markdown",
   "metadata": {},
   "source": [
    "Crawled articles are stored in a jsonl file. Each line is a json object with the following fields:\n",
    "\n",
    "- `title`: the title of the article\n",
    "- `url`: the url of the article\n",
    "- `keyword`: the keyword for which the article was found\n",
    "- `categories`: the categories of the article\n",
    "- `time`: the timestamp of the article\n",
    "- `text`: the text of the article\n",
    "\n",
    "Example data look like this:\n"
   ]
  },
  {
   "cell_type": "code",
   "execution_count": 25,
   "metadata": {},
   "outputs": [
    {
     "name": "stdout",
     "output_type": "stream",
     "text": [
      "Number of articles: 10\n"
     ]
    },
    {
     "data": {
      "text/plain": [
       "{'title': 'NBC to increase reserve requirements in foreign currency to 12.5%',\n",
       " 'url': 'https://www.khmertimeskh.com/501335210/nbc-to-increase-reserve-requirements-in-foreign-currency-to-12-5/',\n",
       " 'keyword': 'NBC',\n",
       " 'categories': ['Business'],\n",
       " 'time': '2023-08-02T07:18:54+07:00',\n",
       " 'text': 'The National Bank of Cambodia (NBC) will increase the reserve requirements in foreign currency, especially US dollars of banks and financial institutions in the country to 12.5 percent in 2024 after this monetary policy instrument has been raised to nine percent since January 1, 2023 from seven percent during the pre-pandemic period, said an NBC report.\\nHowever, the Semi-Annual Report 2023 released on Monday by NBC—Cambodia’s central bank and monetary authority—pointed out that the reserve requirements in riel would be kept unchanged at seven percent to encourage consumers to use the national currency more in the economy through higher possibility in releasing loans in riel to businesses and individuals.\\nChea Chanto, former Governor of NBC, said in the report that NBC has increased the reserve requirements—a part of deposits that all banks and financial institutions are required to keep to be ready in response to any case that a number of depositors withdraw cash from the bank in a remarkable speed and/or at the same—thanks to improved economic activities in the country.\\n“In participation in maintaining the price stability and boosting the economic growth of the country, monetary policies have been implemented very flexibly and prudentially. Liquidity has been released into the market and then absorbed back in response to the actual demand to ensure that banks and financial institutions have sufficient liquidity,” Chanto said.\\n“The sufficient liquidity will enable those institutions to provide loans to consumers at a more reasonable interest rate and take pressures away from the exchange rate,” said Chanto, adding that improved economic activities and effective monetary instruments have increased the demand for, leading to no selling-buying intervention for US dollar by NBC in the first half of 2023.\\nLiquidity means that it is as high as possible for consumers to withdraw deposits back when they are in need of use in their consumption and banks and financial institutions to have on hand to be ready in response to the demand for loans or withdrawal from consumers, which can be called the strong resilience of banks and financial institutions against shocks or crises.\\nThe report further pointed out that the increase in the reserve requirements in foreign currency has absorbed an amount of foreign-currency liquidity from banks and financial institutions, but released the liquidity by approximately $1.7 billion in the first half of this year compared to the pre-crisis period when the rates were set at 12.5 percent and eight percent for reserve requirements in dollar and riel respectively.\\nThe report released after NBC’s semi-annual meeting indicated that the reserve requirements in US dollar and riel have been about $4.3 billion and $340.4 million respectively in the first half of 2023, which has also increased 32 percent and 19 percent respectively compared to the same period of the previous year in line with the rising deposits and overseas loans.\\n“If riel is used more and more broadly, the implementation of the central bank’s monetary policies would be more and more effective in further boosting economic activities. However, the participation from all stakeholders including public institutions, private firms and the people is still the key to success in expanding the use of riel in all sectors,” Chanto added.\\nSpeaking to Khmer Times yesterday, In Channy, President & Group Managing Director of Acleda Bank Plc, said that NBC had decreased the reserve requirements in foreign currency to seven percent during Covid-19 pandemic from 12.5 percent before the health crisis, but then increased to nine percent since early this year and will raise the rate to 12.5 percent next year.\\n“It is an incentive for riel as the central bank has implemented the monetary policy by having kept the reserve requirements in national currency unchanged, which would enable banks and financial institutions to increase loan release in riel that will be used more and more in the economy. It is not about being fair or unfair. It is about policy implementation,” said Channy.\\nCambodia’s banking system consists of 59 commercial banks, nine specialised banks, five deposit-taking microfinance institutions (MDIs), 82 microfinance institutions (MFIs), 118 leasing firms, 35 payment institutions, one credit information-sharing service providers, six representative offices of foreign banks and 2,890 money exchangers, according to the report.\\n\\xa0'}"
      ]
     },
     "execution_count": 25,
     "metadata": {},
     "output_type": "execute_result"
    }
   ],
   "source": [
    "data = HyFI.load_jsonl(\n",
    "    \"/home/yjlee/workspace/projects/nbcpu/workspace/datasets/fetcher/khmer/articles.jsonl\"\n",
    ")\n",
    "print(f\"Number of articles: {len(data)}\")\n",
    "data[0]\n"
   ]
  },
  {
   "cell_type": "code",
   "execution_count": null,
   "metadata": {},
   "outputs": [],
   "source": []
  }
 ],
 "metadata": {
  "kernelspec": {
   "display_name": "research-P5qh1W2b-py3.8",
   "language": "python",
   "name": "python3"
  },
  "language_info": {
   "codemirror_mode": {
    "name": "ipython",
    "version": 3
   },
   "file_extension": ".py",
   "mimetype": "text/x-python",
   "name": "python",
   "nbconvert_exporter": "python",
   "pygments_lexer": "ipython3",
   "version": "3.8.10"
  },
  "orig_nbformat": 4
 },
 "nbformat": 4,
 "nbformat_minor": 2
}
