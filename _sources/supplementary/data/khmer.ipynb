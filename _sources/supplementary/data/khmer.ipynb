{
 "cells": [
  {
   "attachments": {},
   "cell_type": "markdown",
   "metadata": {},
   "source": [
    "# Dataset Preparation for Khmer Times\n",
    "\n",
    "The dataset for Khmer Times is prepared as follows:\n",
    "\n",
    "## 1. Web Scraping\n",
    "\n",
    "Web scraping is performed using Python with the help of the `requests` and `BeautifulSoup` libraries. A Python function is written to crawl the search results pages of the Khmer Times website and extract the URLs of the news articles. The function takes a search keyword as input and iteratively crawls the search results pages until it encounters a page that returns a 404 error, indicating that there are no more results.\n",
    "\n",
    "The structure of the search results pages is as follows:\n",
    "\n",
    "- Each article is contained within an `<article>` tag with the class `item item-media`.\n",
    "- The title of the article is contained within an `<h2>` tag with the class `item-title`.\n",
    "- The URL of the article is contained within an `<a>` tag within the `<h2>` tag.\n",
    "\n",
    "The function extracts the title and URL of each article and stores them in a list of dictionaries.\n",
    "\n",
    "## 2. Article Text Extraction\n",
    "\n",
    "Another Python function is written to follow the URLs extracted in the previous step and scrape the text of the articles. The function iterates over the list of URLs and sends a GET request to each URL. It then parses the HTML of the article page using BeautifulSoup.\n",
    "\n",
    "The structure of the article pages is as follows:\n",
    "\n",
    "- The text of the article is contained within multiple `<p>` tags, which are themselves contained within a `<div>` tag with the class `entry-content`.\n",
    "- The categories of the article are contained within `<a>` tags within a `<div>` tag with the class `entry-meta`.\n",
    "- The publication time of the article is contained within a `<time>` tag within the same `entry-meta` div.\n",
    "\n",
    "The function extracts the text, categories, and publication time of each article and stores them in a list of dictionaries.\n",
    "\n",
    "## 3. Data Serialization\n",
    "\n",
    "The list of dictionaries containing the article data is then serialized to a JSON file using Python's `json` library. The `datetime` objects representing the publication times of the articles are converted to ISO 8601 formatted strings before serialization, as `datetime` objects are not JSON serializable.\n",
    "\n",
    "The resulting JSON file contains an array of objects, where each object represents an article and has a `text`, `categories`, and `time` field. The `text` field contains the text of the article, the `categories` field contains a list of the categories of the article, and the `time` field contains the publication time of the article as an ISO 8601 formatted string.\n",
    "\n",
    "This JSON file serves as the dataset for this project.\n"
   ]
  },
  {
   "cell_type": "code",
   "execution_count": null,
   "metadata": {},
   "outputs": [],
   "source": []
  }
 ],
 "metadata": {
  "kernelspec": {
   "display_name": "research-P5qh1W2b-py3.8",
   "language": "python",
   "name": "python3"
  },
  "language_info": {
   "codemirror_mode": {
    "name": "ipython",
    "version": 3
   },
   "file_extension": ".py",
   "mimetype": "text/x-python",
   "name": "python",
   "nbconvert_exporter": "python",
   "pygments_lexer": "ipython3",
   "version": "3.8.10"
  },
  "orig_nbformat": 4
 },
 "nbformat": 4,
 "nbformat_minor": 2
}
